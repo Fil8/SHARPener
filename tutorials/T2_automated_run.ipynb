{
 "cells": [
  {
   "cell_type": "markdown",
   "metadata": {
    "deletable": true,
    "editable": true
   },
   "source": [
    "## Automated run for spectra extraction and plotting\n",
    "\n"
   ]
  },
  {
   "cell_type": "code",
   "execution_count": 1,
   "metadata": {
    "collapsed": false,
    "deletable": true,
    "editable": true
   },
   "outputs": [
    {
     "name": "stdout",
     "output_type": "stream",
     "text": [
      "Setup logger with lib.setup_logger()\n"
     ]
    },
    {
     "name": "stderr",
     "output_type": "stream",
     "text": [
      "\n",
      "Bad key \"backed\" on line 1 in\n",
      "/Users/maccagni/.matplotlib/matplotlibrc.\n",
      "You probably need to get an updated matplotlibrc file from\n",
      "http://github.com/matplotlib/matplotlib/blob/master/matplotlibrc.template\n",
      "or from the matplotlib source distribution\n"
     ]
    },
    {
     "name": "stdout",
     "output_type": "stream",
     "text": [
      "Help on module sharpener:\n",
      "\n",
      "NAME\n",
      "    sharpener\n",
      "\n",
      "FILE\n",
      "    /Users/maccagni/notebooks/sharpener/sharpener.py\n",
      "\n",
      "CLASSES\n",
      "    sharpener\n",
      "    \n",
      "    class sharpener\n",
      "     |  Class for spectral studies (find continuum sources, extract spectra, analyze spectra)\n",
      "     |  \n",
      "     |  Methods defined here:\n",
      "     |  \n",
      "     |  __init__(self, file=None)\n",
      "     |      Set logger for spectrum extraction\n",
      "     |      Find config file\n",
      "     |      If not specified by user load sharpener_default.yml\n",
      "     |  \n",
      "     |  enable_task(self, config, task)\n",
      "     |  \n",
      "     |  go(self, cfg_par)\n",
      "     |      Automated pipeline to extract spectra from each continuum source in a given field.\n",
      "     |      \n",
      "     |      Calls the following functions\n",
      "     |      \n",
      "     |      - cont_src\n",
      "     |       -- source_catalog\n",
      "     |              finds sources above threshold in a catalog\n",
      "     |       -- mosaic_continuum\n",
      "     |              creates mosaic of continuum images\n",
      "     |       -- find_src_imsad (continuum)\n",
      "     |              finds sources in a continuum image using MIRIAD imsad source finder\n",
      "     |      - spec_ex\n",
      "     |       -- abs_ex\n",
      "     |              extracts spectra given \n",
      "     |      - abs_plot\n",
      "     |       -- abs_plot\n",
      "     |              plots spectra\n",
      "     |  \n",
      "     |  set_dirs(self)\n",
      "     |      Sets directory strucure and filenames\n",
      "     |      Creates directory abs/ in basedir+beam and subdirectories spec/ and plot/\n",
      "     |      \n",
      "     |      OUTPUT:\n",
      "     |              tab : table of catalog\n",
      "     |              flux : flux of continuum sources abouve set threshold\n",
      "     |  \n",
      "     |  ----------------------------------------------------------------------\n",
      "     |  Data and other attributes defined here:\n",
      "     |  \n",
      "     |  C = 299792.458\n",
      "     |  \n",
      "     |  HI = 1420405751.0\n",
      "\n",
      "DATA\n",
      "    __author__ = 'Filippo Maccagni'\n",
      "    __copyright__ = 'RadioLife'\n",
      "    __email__ = 'filippo.maccagni@gmail.com'\n",
      "    __status__ = 'Development'\n",
      "    __version__ = '1.0.0'\n",
      "\n",
      "VERSION\n",
      "    1.0.0\n",
      "\n",
      "AUTHOR\n",
      "    Filippo Maccagni\n",
      "\n",
      "\n",
      "\t+------+\n",
      "\t  Done \n",
      "\t+------+\n"
     ]
    }
   ],
   "source": [
    "import os, string, sys\n",
    "import numpy as np\n",
    "import pyaml\n",
    "from astropy.io import ascii\n",
    "\n",
    "from IPython.display import HTML, display\n",
    "\n",
    "import sharpener as sharpy\n",
    "\n",
    "\n",
    "help(sharpy)\n",
    "\n",
    "print '\\t+------+\\n\\t  Done \\n\\t+------+'"
   ]
  },
  {
   "cell_type": "markdown",
   "metadata": {
    "collapsed": true,
    "deletable": true,
    "editable": true
   },
   "source": [
    "## Automated run"
   ]
  },
  {
   "cell_type": "code",
   "execution_count": 2,
   "metadata": {
    "collapsed": false,
    "deletable": true,
    "editable": true,
    "scrolled": false
   },
   "outputs": [
    {
     "name": "stdout",
     "output_type": "stream",
     "text": [
      "\t+------+\n",
      "\t Sharpener \n",
      "\t Parameter File \n",
      "\t+------+\n",
      "\t+------+\n",
      "\t Loaded \n",
      "\t+------+\n",
      "\t+------+\n",
      "\t Parameters modified \n",
      "\t+------+\n",
      "# Find continuum sources \n",
      "# List of continuum sources saved on file. #\n",
      "# Continuum sources found #\n",
      "# Total number of sources: \t44\n",
      "# Sources below threshold: \t0\n",
      "# Sources outside f.o.v.:\t0\n",
      "# Sources to analyze: \t\t44\n",
      "\n",
      "\n",
      "# Total number of sources: \t44\n",
      "# Sources flagged: \t\t0\n",
      "# Blank spectra:\t\t0\n",
      "# Total number of spectra: \t44\n",
      "# Average noise in spectra: \t2.9 mJy/beam\n"
     ]
    },
    {
     "ename": "NameError",
     "evalue": "global name 'abs_plot' is not defined",
     "output_type": "error",
     "traceback": [
      "\u001b[0;31m---------------------------------------------------------------------------\u001b[0m",
      "\u001b[0;31mNameError\u001b[0m                                 Traceback (most recent call last)",
      "\u001b[0;32m<ipython-input-2-dc3dbf05ccad>\u001b[0m in \u001b[0;36m<module>\u001b[0;34m()\u001b[0m\n\u001b[1;32m     21\u001b[0m \u001b[0;34m\u001b[0m\u001b[0m\n\u001b[1;32m     22\u001b[0m \u001b[0;34m\u001b[0m\u001b[0m\n\u001b[0;32m---> 23\u001b[0;31m \u001b[0mrun\u001b[0m \u001b[0;34m=\u001b[0m \u001b[0mspar\u001b[0m\u001b[0;34m.\u001b[0m\u001b[0mgo\u001b[0m\u001b[0;34m(\u001b[0m\u001b[0mspar\u001b[0m\u001b[0;34m.\u001b[0m\u001b[0mcfg_par\u001b[0m\u001b[0;34m)\u001b[0m\u001b[0;34m\u001b[0m\u001b[0m\n\u001b[0m\u001b[1;32m     24\u001b[0m \u001b[0;34m\u001b[0m\u001b[0m\n\u001b[1;32m     25\u001b[0m \u001b[0;32mif\u001b[0m \u001b[0mrun\u001b[0m \u001b[0;34m==\u001b[0m \u001b[0;36m0\u001b[0m\u001b[0;34m:\u001b[0m\u001b[0;34m\u001b[0m\u001b[0m\n",
      "\u001b[0;32m/Users/maccagni/notebooks/sharpener/sharpener.pyc\u001b[0m in \u001b[0;36mgo\u001b[0;34m(self, cfg_par)\u001b[0m\n\u001b[1;32m    155\u001b[0m                         \u001b[0;32mfor\u001b[0m \u001b[0mi\u001b[0m \u001b[0;32min\u001b[0m \u001b[0mxrange\u001b[0m\u001b[0;34m(\u001b[0m\u001b[0;36m0\u001b[0m\u001b[0;34m,\u001b[0m\u001b[0mlen\u001b[0m\u001b[0;34m(\u001b[0m\u001b[0mspectra\u001b[0m\u001b[0;34m)\u001b[0m\u001b[0;34m)\u001b[0m\u001b[0;34m:\u001b[0m\u001b[0;34m\u001b[0m\u001b[0m\n\u001b[1;32m    156\u001b[0m                                 \u001b[0mspectra\u001b[0m\u001b[0;34m[\u001b[0m\u001b[0mi\u001b[0m\u001b[0;34m]\u001b[0m \u001b[0;34m=\u001b[0m \u001b[0mos\u001b[0m\u001b[0;34m.\u001b[0m\u001b[0mpath\u001b[0m\u001b[0;34m.\u001b[0m\u001b[0mbasename\u001b[0m\u001b[0;34m(\u001b[0m\u001b[0mspectra\u001b[0m\u001b[0;34m[\u001b[0m\u001b[0mi\u001b[0m\u001b[0;34m]\u001b[0m\u001b[0;34m)\u001b[0m\u001b[0;34m\u001b[0m\u001b[0m\n\u001b[0;32m--> 157\u001b[0;31m                                 \u001b[0mabs_plot\u001b[0m\u001b[0;34m.\u001b[0m\u001b[0mabsorption_plot\u001b[0m\u001b[0;34m(\u001b[0m\u001b[0mspectra\u001b[0m\u001b[0;34m[\u001b[0m\u001b[0mi\u001b[0m\u001b[0;34m]\u001b[0m\u001b[0;34m,\u001b[0m\u001b[0mself\u001b[0m\u001b[0;34m.\u001b[0m\u001b[0mcfg_par\u001b[0m\u001b[0;34m)\u001b[0m\u001b[0;34m\u001b[0m\u001b[0m\n\u001b[0m\u001b[1;32m    158\u001b[0m \u001b[0;34m\u001b[0m\u001b[0m\n\u001b[1;32m    159\u001b[0m \u001b[0;34m\u001b[0m\u001b[0m\n",
      "\u001b[0;31mNameError\u001b[0m: global name 'abs_plot' is not defined"
     ]
    }
   ],
   "source": [
    "print '\\t+------+\\n\\t Sharpener \\n\\t Parameter File \\n\\t+------+'\n",
    "\n",
    "spar = sharpy.sharpener('/Users/maccagni/notebooks/sharpener/sharpener_default.yml')\n",
    "\n",
    "print '\\t+------+\\n\\t Loaded \\n\\t+------+'\n",
    "\n",
    "# Set working directory & filenames\n",
    "spar.cfg_par['general']['workdir'] = '/Users/maccagni/Projects/MFS/FornaxA/MeerKAT/fa2/cubes/p1/'\n",
    "spar.cfg_par['general']['contname'] ='fa2_p1_2-MFS-image.fits'\n",
    "spar.cfg_par['general']['cubename'] = 'fa2_p1_HI.image.fits'\n",
    "\n",
    "# Enable / disable modules\n",
    "spar.cfg_par['source_finder']['enable'] = True\n",
    "spar.cfg_par['spec_ex']['enable'] = True\n",
    "spar.cfg_par['abs_plot']['enable'] = True\n",
    "\n",
    "spar.set_dirs()\n",
    "\n",
    "# Options\n",
    "print '\\t+------+\\n\\t Parameters modified \\n\\t+------+'\n",
    "\n",
    "\n",
    "run = spar.go(spar.cfg_par)\n",
    "\n",
    "if run == 0: \n",
    "    print '\\t+------+\\n\\t Done \\n\\t+------+'"
   ]
  },
  {
   "cell_type": "code",
   "execution_count": null,
   "metadata": {
    "collapsed": true,
    "deletable": true,
    "editable": true
   },
   "outputs": [],
   "source": []
  }
 ],
 "metadata": {
  "anaconda-cloud": {},
  "kernelspec": {
   "display_name": "Python [conda root]",
   "language": "python",
   "name": "conda-root-py"
  },
  "language_info": {
   "codemirror_mode": {
    "name": "ipython",
    "version": 2
   },
   "file_extension": ".py",
   "mimetype": "text/x-python",
   "name": "python",
   "nbconvert_exporter": "python",
   "pygments_lexer": "ipython2",
   "version": "2.7.12"
  }
 },
 "nbformat": 4,
 "nbformat_minor": 1
}
