{
 "cells": [
  {
   "cell_type": "markdown",
   "metadata": {
    "deletable": true,
    "editable": true
   },
   "source": [
    "## Automated run for spectra extraction and plotting\n",
    "\n"
   ]
  },
  {
   "cell_type": "code",
   "execution_count": 1,
   "metadata": {
    "collapsed": false,
    "deletable": true,
    "editable": true
   },
   "outputs": [
    {
     "name": "stdout",
     "output_type": "stream",
     "text": [
      "Setup logger with lib.setup_logger()\n"
     ]
    },
    {
     "name": "stderr",
     "output_type": "stream",
     "text": [
      "\n",
      "Bad key \"backed\" on line 1 in\n",
      "/Users/maccagni/.matplotlib/matplotlibrc.\n",
      "You probably need to get an updated matplotlibrc file from\n",
      "http://github.com/matplotlib/matplotlib/blob/master/matplotlibrc.template\n",
      "or from the matplotlib source distribution\n"
     ]
    },
    {
     "name": "stdout",
     "output_type": "stream",
     "text": [
      "Help on module sharpener:\n",
      "\n",
      "NAME\n",
      "    sharpener\n",
      "\n",
      "FILE\n",
      "    /Users/maccagni/notebooks/sharpener/sharpener.py\n",
      "\n",
      "CLASSES\n",
      "    sharpener\n",
      "    \n",
      "    class sharpener\n",
      "     |  Class for spectral studies (find continuum sources, extract spectra, analyze spectra)\n",
      "     |  \n",
      "     |  Methods defined here:\n",
      "     |  \n",
      "     |  __init__(self, file=None)\n",
      "     |      Set logger for spectrum extraction\n",
      "     |      Find config file\n",
      "     |      If not specified by user load sharpener_default.yml\n",
      "     |  \n",
      "     |  enable_task(self, config, task)\n",
      "     |  \n",
      "     |  go(self, cfg_par)\n",
      "     |      Automated pipeline to extract spectra from each continuum source in a given field.\n",
      "     |      \n",
      "     |      Calls the following functions\n",
      "     |      \n",
      "     |      - cont_src\n",
      "     |       -- source_catalog\n",
      "     |              finds sources above threshold in a catalog\n",
      "     |       -- mosaic_continuum\n",
      "     |              creates mosaic of continuum images\n",
      "     |       -- find_src_imsad (continuum)\n",
      "     |              finds sources in a continuum image using MIRIAD imsad source finder\n",
      "     |      - spec_ex\n",
      "     |       -- abs_ex\n",
      "     |              extracts spectra given \n",
      "     |      - abs_plot\n",
      "     |       -- abs_plot\n",
      "     |              plots spectra\n",
      "     |  \n",
      "     |  set_dirs(self)\n",
      "     |      Sets directory strucure and filenames\n",
      "     |      Creates directory abs/ in basedir+beam and subdirectories spec/ and plot/\n",
      "     |      \n",
      "     |      OUTPUT:\n",
      "     |              tab : table of catalog\n",
      "     |              flux : flux of continuum sources abouve set threshold\n",
      "     |  \n",
      "     |  ----------------------------------------------------------------------\n",
      "     |  Data and other attributes defined here:\n",
      "     |  \n",
      "     |  C = 299792.458\n",
      "     |  \n",
      "     |  HI = 1420405751.0\n",
      "\n",
      "DATA\n",
      "    __author__ = 'Filippo Maccagni'\n",
      "    __copyright__ = 'RadioLife'\n",
      "    __email__ = 'filippo.maccagni@gmail.com'\n",
      "    __status__ = 'Development'\n",
      "    __version__ = '1.0.0'\n",
      "\n",
      "VERSION\n",
      "    1.0.0\n",
      "\n",
      "AUTHOR\n",
      "    Filippo Maccagni\n",
      "\n",
      "\n",
      "None\n",
      "\t+------+\n",
      "\t  Done \n",
      "\t+------+\n"
     ]
    }
   ],
   "source": [
    "import os, string, sys\n",
    "import numpy as np\n",
    "import pyaml\n",
    "from astropy.io import ascii\n",
    "\n",
    "from IPython.display import HTML, display\n",
    "\n",
    "import sharpener as sharpy\n",
    "\n",
    "\n",
    "print help(sharpy)\n",
    "\n",
    "print '\\t+------+\\n\\t  Done \\n\\t+------+'"
   ]
  },
  {
   "cell_type": "markdown",
   "metadata": {
    "collapsed": true,
    "deletable": true,
    "editable": true
   },
   "source": [
    "## Automated run"
   ]
  },
  {
   "cell_type": "code",
   "execution_count": 2,
   "metadata": {
    "collapsed": false,
    "deletable": true,
    "editable": true,
    "scrolled": false
   },
   "outputs": [
    {
     "name": "stdout",
     "output_type": "stream",
     "text": [
      "\t+------+\n",
      "\t Sharpener \n",
      "\t Parameter File \n",
      "\t+------+\n",
      "{\n",
      "    \"abs_plot\": {\n",
      "        \"__helpstr\": \"plot spectra\", \n",
      "        \"enable\": true, \n",
      "        \"redshift_sources\": [\n",
      "            \"800 2200\"\n",
      "        ], \n",
      "        \"title\": null\n",
      "    }, \n",
      "    \"general\": {\n",
      "        \"__helpstr\": \"General INPUT directories and filenames\", \n",
      "        \"contname\": \"cont/cont_im.fits\", \n",
      "        \"cubename\": \"cube/mfs_atca.fits\", \n",
      "        \"verbose\": false, \n",
      "        \"workdir\": \"/Users/maccagni/Projects/FornaX/ATCA/\"\n",
      "    }, \n",
      "    \"hanning\": {\n",
      "        \"__helpstr\": \"Hanning smoothing spectrum\", \n",
      "        \"enable\": true, \n",
      "        \"window\": 3\n",
      "    }, \n",
      "    \"polynomial_subtraction\": {\n",
      "        \"__helpstr\": \"Subtract polynomial from spectrum\", \n",
      "        \"degree_pol\": 6, \n",
      "        \"enable\": true\n",
      "    }, \n",
      "    \"simulate_continuum\": {\n",
      "        \"__helpstr\": \"Simulate continuum from source catalog\", \n",
      "        \"enable\": true\n",
      "    }, \n",
      "    \"source_catalog\": {\n",
      "        \"__helpstr\": \"Find sources in a f.o.v. from source_catalog\", \n",
      "        \"catalog\": \"NVSS\", \n",
      "        \"centre_coord\": [\n",
      "            \"03:40:0.989\", \n",
      "            \"-35:28:34.53\"\n",
      "        ], \n",
      "        \"enable\": true, \n",
      "        \"thresh\": 30, \n",
      "        \"width\": \"5.2d\"\n",
      "    }, \n",
      "    \"source_finder\": {\n",
      "        \"__helpstr\": \"Find sources in continuum image using miriad imsad\", \n",
      "        \"clip\": \"5e-3\", \n",
      "        \"enable\": false, \n",
      "        \"options\": null, \n",
      "        \"region\": null\n",
      "    }, \n",
      "    \"spec_ex\": {\n",
      "        \"__helpstr\": \"Extract spectra from datacube\", \n",
      "        \"chrom_aberration\": true, \n",
      "        \"enable\": true, \n",
      "        \"flag_chans\": null, \n",
      "        \"zunit\": \"hz\"\n",
      "    }\n",
      "}\n",
      "\t+------+\n",
      "\t Loaded \n",
      "\t+------+\n",
      "\t+------+\n",
      "\t Parameters modified \n",
      "\t+------+\n",
      "# Find continuum sources \n",
      "# List of continuum sources saved on file. #\n",
      "# Continuum sources found #\n",
      "# Total number of sources: \t44\n",
      "# Sources below threshold: \t0\n",
      "# Sources outside f.o.v.:\t0\n",
      "# Sources to analyze: \t\t44\n",
      "\n"
     ]
    },
    {
     "name": "stderr",
     "output_type": "stream",
     "text": [
      "/Users/maccagni/programs/anaconda2/lib/python2.7/site-packages/numpy/lib/nanfunctions.py:703: RuntimeWarning: Mean of empty slice\n",
      "  warnings.warn(\"Mean of empty slice\", RuntimeWarning)\n",
      "/Users/maccagni/programs/anaconda2/lib/python2.7/site-packages/numpy/lib/nanfunctions.py:717: RuntimeWarning: All-NaN slice encountered\n",
      "  warnings.warn(\"All-NaN slice encountered\", RuntimeWarning)\n",
      "/Users/maccagni/notebooks/radiobs/hi.py:78: RuntimeWarning: divide by zero encountered in divide\n",
      "  tau=np.log(1.-(-sabs/scont))\n",
      "/Users/maccagni/notebooks/radiobs/hi.py:78: RuntimeWarning: invalid value encountered in log\n",
      "  tau=np.log(1.-(-sabs/scont))\n"
     ]
    },
    {
     "name": "stdout",
     "output_type": "stream",
     "text": [
      "\n",
      "# Total number of sources: \t44\n",
      "# Sources flagged: \t\t0\n",
      "# Blank spectra:\t\t0\n",
      "# Total number of spectra: \t44\n",
      "# Average noise in spectra: \t2.9 mJy/beam\n",
      "\t+------+\n",
      "\t Done \n",
      "\t+------+\n"
     ]
    }
   ],
   "source": [
    "print '\\t+------+\\n\\t Sharpener \\n\\t Parameter File \\n\\t+------+'\n",
    "\n",
    "spar = sharpy.sharpener('/Users/maccagni/notebooks/sharpener/sharpener_default.yml')\n",
    "\n",
    "print '\\t+------+\\n\\t Loaded \\n\\t+------+'\n",
    "\n",
    "# Set working directory & filenames\n",
    "spar.cfg_par['general']['workdir'] = '/Users/maccagni/Projects/MFS/FornaxA/MeerKAT/fa2/cubes/p1/'\n",
    "spar.cfg_par['general']['contname'] ='fa2_p1_2-MFS-image.fits'\n",
    "spar.cfg_par['general']['cubename'] = 'fa2_p1_HI.image.fits'\n",
    "\n",
    "# Enable / disable modules\n",
    "spar.cfg_par['source_finder']['enable'] = True\n",
    "spar.cfg_par['abs_plot']['enable'] = False\n",
    "spar.cfg_par['source_catalog']['enable'] = False\n",
    "spar.cfg_par['polynomial_subtraction']['enable'] = False\n",
    "spar.cfg_par['hanning']['enable'] = False\n",
    "spar.cfg_par['spec_ex']['chrom_aberration'] = False\n",
    "\n",
    "spar.set_dirs()\n",
    "\n",
    "# Options\n",
    "print '\\t+------+\\n\\t Parameters modified \\n\\t+------+'\n",
    "\n",
    "\n",
    "run = spar.go(spar.cfg_par)\n",
    "\n",
    "if run == 0: \n",
    "    print '\\t+------+\\n\\t Done \\n\\t+------+'"
   ]
  },
  {
   "cell_type": "code",
   "execution_count": null,
   "metadata": {
    "collapsed": true
   },
   "outputs": [],
   "source": []
  },
  {
   "cell_type": "code",
   "execution_count": null,
   "metadata": {
    "collapsed": true
   },
   "outputs": [],
   "source": []
  }
 ],
 "metadata": {
  "anaconda-cloud": {},
  "kernelspec": {
   "display_name": "Python [conda root]",
   "language": "python",
   "name": "conda-root-py"
  },
  "language_info": {
   "codemirror_mode": {
    "name": "ipython",
    "version": 2
   },
   "file_extension": ".py",
   "mimetype": "text/x-python",
   "name": "python",
   "nbconvert_exporter": "python",
   "pygments_lexer": "ipython2",
   "version": "2.7.12"
  }
 },
 "nbformat": 4,
 "nbformat_minor": 1
}
