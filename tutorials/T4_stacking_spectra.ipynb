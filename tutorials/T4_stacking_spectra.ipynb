{
 "cells": [
  {
   "cell_type": "markdown",
   "metadata": {
    "deletable": true,
    "editable": true
   },
   "source": [
    "## Stack all selected spectra (to be completed)\n",
    "\n",
    "- A subsample of the spectra extracted by `sharpener` can be stacked together.\n",
    "- Redshift of the sources must be known a priori.\n"
   ]
  },
  {
   "cell_type": "code",
   "execution_count": 2,
   "metadata": {
    "collapsed": false,
    "deletable": true,
    "editable": true
   },
   "outputs": [
    {
     "name": "stdout",
     "output_type": "stream",
     "text": [
      "\t+------+\n",
      "\t  Done \n",
      "\t+------+\n"
     ]
    }
   ],
   "source": [
    "import os, string, sys\n",
    "import numpy as np\n",
    "import pyaml\n",
    "from astropy.io import ascii\n",
    "\n",
    "from IPython.display import HTML, display\n",
    "\n",
    "import sharpener as sharpy\n",
    "\n",
    "print '\\t+------+\\n\\t  Done \\n\\t+------+'"
   ]
  },
  {
   "cell_type": "markdown",
   "metadata": {
    "collapsed": true,
    "deletable": true,
    "editable": true
   },
   "source": [
    "### Catalog query \n",
    "\n",
    " - Identify all continuum sources of the NVSS catalog with flux above 50 mJy within one deg$$^2$$ from given coordinates\n",
    " - Saves it in a table specified by the user in working directory.\n",
    " "
   ]
  },
  {
   "cell_type": "code",
   "execution_count": 2,
   "metadata": {
    "collapsed": false,
    "deletable": true,
    "editable": true,
    "scrolled": false
   },
   "outputs": [
    {
     "name": "stdout",
     "output_type": "stream",
     "text": [
      "\t+------+\n",
      "\t Sharpener \n",
      "\t Parameter File \n",
      "\t+------+\n",
      "\t+------+\n",
      "\t Loaded \n",
      "\t+------+\n",
      "\t+------+\n",
      "\t Parameters modified \n",
      "\t+------+\n",
      "\t+------+\n",
      "\t Catalog query \n",
      "\t+------+\n",
      "\t+------+\n",
      "\t Done \n",
      "\t+------+\n"
     ]
    },
    {
     "name": "stderr",
     "output_type": "stream",
     "text": [
      "/Users/maccagni/programs/anaconda2/lib/python2.7/site-packages/numpy/ma/core.py:3289: VisibleDeprecationWarning: using a boolean instead of an integer will result in an error in the future\n",
      "  _data[indx] = dval\n",
      "/Users/maccagni/programs/anaconda2/lib/python2.7/site-packages/numpy/ma/core.py:3290: VisibleDeprecationWarning: using a boolean instead of an integer will result in an error in the future\n",
      "  _mask[indx] = mval\n",
      "/Users/maccagni/notebooks/sharpener/sharp_modules/cont_src.py:58: StringTruncateWarning: truncated right side string(s) longer than 1 character(s) during assignment\n",
      "  tab[tab.colnames[i]][above_thresh] = np.nan\n",
      "/Users/maccagni/notebooks/sharpener/sharp_modules/cont_src.py:58: StringTruncateWarning: truncated right side string(s) longer than 1 character(s) during assignment\n",
      "  tab[tab.colnames[i]][above_thresh] = np.nan\n",
      "/Users/maccagni/notebooks/sharpener/sharp_modules/cont_src.py:58: StringTruncateWarning: truncated right side string(s) longer than 2 character(s) during assignment\n",
      "  tab[tab.colnames[i]][above_thresh] = np.nan\n"
     ]
    }
   ],
   "source": [
    "import cont_src as cont_src\n",
    "\n",
    "print '\\t+------+\\n\\t Sharpener \\n\\t Parameter File \\n\\t+------+'\n",
    "\n",
    "spar = sharpy.sharpener('/Users/maccagni/notebooks/sharpener/sharpener_default.yml')\n",
    "\n",
    "print '\\t+------+\\n\\t Loaded \\n\\t+------+'\n",
    "\n",
    "# Set working directory & filenames\n",
    "spar.cfg_par['general']['workdir'] = '/Users/maccagni/notebooks/sharpener/examples/'\n",
    "\n",
    "tablename = 'nvss_query_table.txt'\n",
    "# Enable module\n",
    "spar.cfg_par['source_catalog']['enable'] = True\n",
    "\n",
    "\n",
    "# Options\n",
    "spar.cfg_par['source_catalog']['catalog']  = 'NVSS'\n",
    "spar.cfg_par['source_catalog']['width']  = '1.d'\n",
    "spar.cfg_par['source_catalog']['thresh']  = '50'\n",
    "spar.cfg_par['source_catalog']['centre_coord']  = ['03:40:0.989', '-35:28:34.53']\n",
    "\n",
    "print '\\t+------+\\n\\t Parameters modified \\n\\t+------+'\n",
    "\n",
    "\n",
    "spar.set_dirs()\n",
    "\n",
    "print '\\t+------+\\n\\t Catalog query \\n\\t+------+'\n",
    "\n",
    "\n",
    "sources = cont_src.source_catalog(spar.cfg_par,tablename)\n",
    "\n",
    "\n",
    "print '\\t+------+\\n\\t Done \\n\\t+------+'\n"
   ]
  },
  {
   "cell_type": "markdown",
   "metadata": {
    "deletable": true,
    "editable": true
   },
   "source": [
    "### Display table of sources"
   ]
  },
  {
   "cell_type": "code",
   "execution_count": 3,
   "metadata": {
    "collapsed": false,
    "deletable": true,
    "editable": true
   },
   "outputs": [
    {
     "data": {
      "text/html": [
       "<table>\n",
       "<thead>\n",
       "<tr><th>NVSS         </th><th>RAJ2000    </th><th>DEJ2000    </th><th style=\"text-align: right;\">  e_RAJ2000</th><th style=\"text-align: right;\">  e_DEJ2000</th><th style=\"text-align: right;\">  S1.4</th><th style=\"text-align: right;\">  e_S1.4</th><th>l_MajAxis  </th><th style=\"text-align: right;\">  MajAxis</th><th>l_MinAxis  </th><th style=\"text-align: right;\">  MinAxis</th><th>f_resFlux  </th></tr>\n",
       "</thead>\n",
       "<tbody>\n",
       "<tr><td>033746-354116</td><td>03:37:46.49</td><td>-35:41:16.3</td><td style=\"text-align: right;\">       0.38</td><td style=\"text-align: right;\">        4.6</td><td style=\"text-align: right;\">   4.3</td><td style=\"text-align: right;\">     0.5</td><td><          </td><td style=\"text-align: right;\">     52.3</td><td><          </td><td style=\"text-align: right;\">     49.5</td><td>           </td></tr>\n",
       "<tr><td>033749-350146</td><td>nan        </td><td>nan        </td><td style=\"text-align: right;\">     nan   </td><td style=\"text-align: right;\">      nan  </td><td style=\"text-align: right;\"> nan  </td><td style=\"text-align: right;\">   nan  </td><td>n          </td><td style=\"text-align: right;\">    nan  </td><td>n          </td><td style=\"text-align: right;\">    nan  </td><td>na         </td></tr>\n",
       "<tr><td>033754-351729</td><td>03:37:54.73</td><td>-35:17:29.3</td><td style=\"text-align: right;\">       0.09</td><td style=\"text-align: right;\">        1.3</td><td style=\"text-align: right;\">  22.8</td><td style=\"text-align: right;\">     1.3</td><td>           </td><td style=\"text-align: right;\">     42.2</td><td><          </td><td style=\"text-align: right;\">     18.6</td><td>           </td></tr>\n",
       "<tr><td>033815-351220</td><td>03:38:15.64</td><td>-35:12:20.7</td><td style=\"text-align: right;\">       0.41</td><td style=\"text-align: right;\">        5.7</td><td style=\"text-align: right;\">   4.5</td><td style=\"text-align: right;\">     0.6</td><td><          </td><td style=\"text-align: right;\">     66.5</td><td><          </td><td style=\"text-align: right;\">     55.3</td><td>           </td></tr>\n",
       "<tr><td>033818-351400</td><td>03:38:18.80</td><td>-35:14:00.2</td><td style=\"text-align: right;\">       0.53</td><td style=\"text-align: right;\">       10.3</td><td style=\"text-align: right;\">   2.7</td><td style=\"text-align: right;\">     0.6</td><td><          </td><td style=\"text-align: right;\">     90.6</td><td><          </td><td style=\"text-align: right;\">     54.9</td><td>           </td></tr>\n",
       "<tr><td>033824-355628</td><td>03:38:24.16</td><td>-35:56:28.2</td><td style=\"text-align: right;\">       0.3 </td><td style=\"text-align: right;\">        3.5</td><td style=\"text-align: right;\">   4.6</td><td style=\"text-align: right;\">     0.5</td><td><          </td><td style=\"text-align: right;\">     44.7</td><td><          </td><td style=\"text-align: right;\">     38.6</td><td>           </td></tr>\n",
       "<tr><td>033825-352423</td><td>03:38:25.98</td><td>-35:24:23.5</td><td style=\"text-align: right;\">       0.86</td><td style=\"text-align: right;\">        6.2</td><td style=\"text-align: right;\">  11.3</td><td style=\"text-align: right;\">     1.8</td><td>           </td><td style=\"text-align: right;\">    119.8</td><td><          </td><td style=\"text-align: right;\">     33  </td><td>P*         </td></tr>\n",
       "<tr><td>033826-355128</td><td>03:38:26.69</td><td>-35:51:28.0</td><td style=\"text-align: right;\">       0.05</td><td style=\"text-align: right;\">        0.7</td><td style=\"text-align: right;\">  29.9</td><td style=\"text-align: right;\">     1  </td><td><          </td><td style=\"text-align: right;\">     18.9</td><td><          </td><td style=\"text-align: right;\">     16.2</td><td>           </td></tr>\n",
       "<tr><td>033827-352541</td><td>03:38:27.82</td><td>-35:25:41.1</td><td style=\"text-align: right;\">       0.04</td><td style=\"text-align: right;\">        0.6</td><td style=\"text-align: right;\"> 208.9</td><td style=\"text-align: right;\">     7.4</td><td>           </td><td style=\"text-align: right;\">     47.5</td><td>           </td><td style=\"text-align: right;\">     25.2</td><td>S*         </td></tr>\n",
       "<tr><td>033829-352700</td><td>03:38:29.02</td><td>-35:27:00.7</td><td style=\"text-align: right;\">       0.04</td><td style=\"text-align: right;\">        0.6</td><td style=\"text-align: right;\"> 208  </td><td style=\"text-align: right;\">     6.9</td><td>           </td><td style=\"text-align: right;\">     39.1</td><td><          </td><td style=\"text-align: right;\">     18.4</td><td>P*         </td></tr>\n",
       "<tr><td>033829-353229</td><td>03:38:29.40</td><td>-35:32:29.0</td><td style=\"text-align: right;\">       0.84</td><td style=\"text-align: right;\">        8.2</td><td style=\"text-align: right;\">   2.7</td><td style=\"text-align: right;\">     0.6</td><td><          </td><td style=\"text-align: right;\">     93.7</td><td><          </td><td style=\"text-align: right;\">     67  </td><td>S*         </td></tr>\n",
       "<tr><td>033829-350453</td><td>03:38:29.45</td><td>-35:04:53.5</td><td style=\"text-align: right;\">       0.67</td><td style=\"text-align: right;\">       12.4</td><td style=\"text-align: right;\">   2.5</td><td style=\"text-align: right;\">     0.6</td><td><          </td><td style=\"text-align: right;\">    107  </td><td><          </td><td style=\"text-align: right;\">     60.1</td><td>           </td></tr>\n",
       "<tr><td>033829-352825</td><td>03:38:29.82</td><td>-35:28:25.5</td><td style=\"text-align: right;\">       0.04</td><td style=\"text-align: right;\">        0.6</td><td style=\"text-align: right;\"> 207.8</td><td style=\"text-align: right;\">     7.2</td><td>           </td><td style=\"text-align: right;\">     57.6</td><td>           </td><td style=\"text-align: right;\">     23.6</td><td>P*         </td></tr>\n",
       "<tr><td>033830-353404</td><td>03:38:30.48</td><td>-35:34:04.6</td><td style=\"text-align: right;\">       0.99</td><td style=\"text-align: right;\">       14.4</td><td style=\"text-align: right;\">   3.5</td><td style=\"text-align: right;\">     0.7</td><td><          </td><td style=\"text-align: right;\">    151  </td><td><          </td><td style=\"text-align: right;\">     78.4</td><td>S*         </td></tr>\n",
       "<tr><td>033832-355109</td><td>03:38:32.63</td><td>-35:51:09.0</td><td style=\"text-align: right;\">       0.06</td><td style=\"text-align: right;\">        0.8</td><td style=\"text-align: right;\">  29.9</td><td style=\"text-align: right;\">     1.3</td><td>           </td><td style=\"text-align: right;\">     22.7</td><td><          </td><td style=\"text-align: right;\">     16.7</td><td>           </td></tr>\n",
       "<tr><td>033843-352328</td><td>03:38:43.70</td><td>-35:23:28.7</td><td style=\"text-align: right;\">       0.04</td><td style=\"text-align: right;\">        0.6</td><td style=\"text-align: right;\"> 835.5</td><td style=\"text-align: right;\">    29.7</td><td>           </td><td style=\"text-align: right;\">     46.9</td><td>           </td><td style=\"text-align: right;\">     14.9</td><td>P*         </td></tr>\n",
       "<tr><td>033848-352219</td><td>03:38:48.21</td><td>-35:22:19.1</td><td style=\"text-align: right;\">       0.04</td><td style=\"text-align: right;\">        0.6</td><td style=\"text-align: right;\">1305.7</td><td style=\"text-align: right;\">    44.4</td><td>           </td><td style=\"text-align: right;\">     26.2</td><td><          </td><td style=\"text-align: right;\">     19  </td><td>P*         </td></tr>\n",
       "<tr><td>033851-352713</td><td>03:38:51.07</td><td>-35:27:13.8</td><td style=\"text-align: right;\">       0.4 </td><td style=\"text-align: right;\">        4.2</td><td style=\"text-align: right;\">   4  </td><td style=\"text-align: right;\">     0.5</td><td><          </td><td style=\"text-align: right;\">     56.9</td><td><          </td><td style=\"text-align: right;\">     43  </td><td>           </td></tr>\n",
       "<tr><td>033852-353540</td><td>03:38:52.50</td><td>-35:35:40.0</td><td style=\"text-align: right;\">       0.45</td><td style=\"text-align: right;\">        6  </td><td style=\"text-align: right;\">   3.9</td><td style=\"text-align: right;\">     0.6</td><td><          </td><td style=\"text-align: right;\">     68.2</td><td><          </td><td style=\"text-align: right;\">     51.6</td><td>           </td></tr>\n",
       "<tr><td>033854-351029</td><td>03:38:54.73</td><td>-35:10:29.7</td><td style=\"text-align: right;\">       0.37</td><td style=\"text-align: right;\">        6  </td><td style=\"text-align: right;\">   3.7</td><td style=\"text-align: right;\">     0.5</td><td><          </td><td style=\"text-align: right;\">     62.5</td><td><          </td><td style=\"text-align: right;\">     44.2</td><td>           </td></tr>\n",
       "<tr><td>033908-355221</td><td>03:39:08.36</td><td>-35:52:21.3</td><td style=\"text-align: right;\">       0.41</td><td style=\"text-align: right;\">        8.1</td><td style=\"text-align: right;\">   3.7</td><td style=\"text-align: right;\">     0.6</td><td><          </td><td style=\"text-align: right;\">     85.9</td><td><          </td><td style=\"text-align: right;\">     45.1</td><td>           </td></tr>\n",
       "<tr><td>033931-350230</td><td>03:39:31.54</td><td>-35:02:30.4</td><td style=\"text-align: right;\">       0.35</td><td style=\"text-align: right;\">        6.1</td><td style=\"text-align: right;\">   4  </td><td style=\"text-align: right;\">     0.5</td><td><          </td><td style=\"text-align: right;\">     67.6</td><td><          </td><td style=\"text-align: right;\">     42.2</td><td>           </td></tr>\n",
       "<tr><td>033943-354053</td><td>03:39:43.36</td><td>-35:40:53.2</td><td style=\"text-align: right;\">       0.25</td><td style=\"text-align: right;\">        3.1</td><td style=\"text-align: right;\">   7.1</td><td style=\"text-align: right;\">     0.6</td><td><          </td><td style=\"text-align: right;\">     46.7</td><td><          </td><td style=\"text-align: right;\">     45.8</td><td>           </td></tr>\n",
       "<tr><td>033952-350514</td><td>03:39:52.16</td><td>-35:05:14.4</td><td style=\"text-align: right;\">       0.65</td><td style=\"text-align: right;\">        8.6</td><td style=\"text-align: right;\">   2.3</td><td style=\"text-align: right;\">     0.5</td><td><          </td><td style=\"text-align: right;\">     74.5</td><td><          </td><td style=\"text-align: right;\">     62  </td><td>           </td></tr>\n",
       "<tr><td>034013-351308</td><td>03:40:13.31</td><td>-35:13:08.7</td><td style=\"text-align: right;\">       0.22</td><td style=\"text-align: right;\">        3.5</td><td style=\"text-align: right;\">   6.4</td><td style=\"text-align: right;\">     0.6</td><td><          </td><td style=\"text-align: right;\">     52.6</td><td><          </td><td style=\"text-align: right;\">     31.6</td><td>           </td></tr>\n",
       "<tr><td>034018-350735</td><td>03:40:18.90</td><td>-35:07:35.8</td><td style=\"text-align: right;\">       0.19</td><td style=\"text-align: right;\">        2.7</td><td style=\"text-align: right;\">   7.1</td><td style=\"text-align: right;\">     0.5</td><td><          </td><td style=\"text-align: right;\">     44.2</td><td><          </td><td style=\"text-align: right;\">     29.8</td><td>           </td></tr>\n",
       "<tr><td>034032-351204</td><td>03:40:32.57</td><td>-35:12:04.9</td><td style=\"text-align: right;\">       0.12</td><td style=\"text-align: right;\">        1.8</td><td style=\"text-align: right;\">  10.1</td><td style=\"text-align: right;\">     0.6</td><td><          </td><td style=\"text-align: right;\">     31.1</td><td><          </td><td style=\"text-align: right;\">     24.2</td><td>           </td></tr>\n",
       "<tr><td>034035-354057</td><td>03:40:35.11</td><td>-35:40:57.7</td><td style=\"text-align: right;\">       0.05</td><td style=\"text-align: right;\">        0.7</td><td style=\"text-align: right;\">  34.6</td><td style=\"text-align: right;\">     1.1</td><td><          </td><td style=\"text-align: right;\">     20.3</td><td><          </td><td style=\"text-align: right;\">     18.2</td><td>           </td></tr>\n",
       "<tr><td>034039-354319</td><td>03:40:39.93</td><td>-35:43:19.7</td><td style=\"text-align: right;\">       0.08</td><td style=\"text-align: right;\">        1.1</td><td style=\"text-align: right;\">  15.8</td><td style=\"text-align: right;\">     0.7</td><td><          </td><td style=\"text-align: right;\">     23.1</td><td><          </td><td style=\"text-align: right;\">     19.7</td><td>           </td></tr>\n",
       "<tr><td>034052-353150</td><td>03:40:52.07</td><td>-35:31:50.7</td><td style=\"text-align: right;\">       0.46</td><td style=\"text-align: right;\">       19.7</td><td style=\"text-align: right;\">   3.6</td><td style=\"text-align: right;\">     0.7</td><td><          </td><td style=\"text-align: right;\">    180  </td><td><          </td><td style=\"text-align: right;\">     49  </td><td>           </td></tr>\n",
       "<tr><td>034100-350803</td><td>03:41:00.84</td><td>-35:08:03.8</td><td style=\"text-align: right;\">       0.73</td><td style=\"text-align: right;\">        9  </td><td style=\"text-align: right;\">   2.3</td><td style=\"text-align: right;\">     0.5</td><td><          </td><td style=\"text-align: right;\">     75.4</td><td><          </td><td style=\"text-align: right;\">     69.6</td><td>           </td></tr>\n",
       "<tr><td>034113-354225</td><td>03:41:13.01</td><td>-35:42:25.4</td><td style=\"text-align: right;\">       0.56</td><td style=\"text-align: right;\">        7.1</td><td style=\"text-align: right;\">   2.6</td><td style=\"text-align: right;\">     0.5</td><td><          </td><td style=\"text-align: right;\">     66.9</td><td><          </td><td style=\"text-align: right;\">     55.8</td><td>           </td></tr>\n",
       "<tr><td>034115-345913</td><td>03:41:15.28</td><td>-34:59:13.8</td><td style=\"text-align: right;\">       0.52</td><td style=\"text-align: right;\">        7.2</td><td style=\"text-align: right;\">   2.8</td><td style=\"text-align: right;\">     0.5</td><td><          </td><td style=\"text-align: right;\">     67.2</td><td><          </td><td style=\"text-align: right;\">     53.3</td><td>           </td></tr>\n",
       "<tr><td>034119-350224</td><td>03:41:19.63</td><td>-35:02:24.8</td><td style=\"text-align: right;\">       0.06</td><td style=\"text-align: right;\">        0.8</td><td style=\"text-align: right;\">  26.9</td><td style=\"text-align: right;\">     0.9</td><td><          </td><td style=\"text-align: right;\">     19.4</td><td><          </td><td style=\"text-align: right;\">     16.6</td><td>           </td></tr>\n",
       "<tr><td>034132-350106</td><td>03:41:32.02</td><td>-35:01:06.0</td><td style=\"text-align: right;\">       0.26</td><td style=\"text-align: right;\">        3  </td><td style=\"text-align: right;\">   6.9</td><td style=\"text-align: right;\">     0.6</td><td><          </td><td style=\"text-align: right;\">     53.6</td><td><          </td><td style=\"text-align: right;\">     36.7</td><td>           </td></tr>\n",
       "<tr><td>034133-350249</td><td>03:41:33.40</td><td>-35:02:49.9</td><td style=\"text-align: right;\">       0.34</td><td style=\"text-align: right;\">        3.2</td><td style=\"text-align: right;\">   5.4</td><td style=\"text-align: right;\">     0.6</td><td><          </td><td style=\"text-align: right;\">     59.5</td><td><          </td><td style=\"text-align: right;\">     36.4</td><td>           </td></tr>\n",
       "<tr><td>034140-355721</td><td>03:41:40.67</td><td>-35:57:21.1</td><td style=\"text-align: right;\">       0.1 </td><td style=\"text-align: right;\">        1.5</td><td style=\"text-align: right;\">  12.5</td><td style=\"text-align: right;\">     0.6</td><td><          </td><td style=\"text-align: right;\">     32.7</td><td><          </td><td style=\"text-align: right;\">     22  </td><td>           </td></tr>\n",
       "<tr><td>034140-355551</td><td>03:41:40.84</td><td>-35:55:51.7</td><td style=\"text-align: right;\">       0.6 </td><td style=\"text-align: right;\">        9.5</td><td style=\"text-align: right;\">   2.8</td><td style=\"text-align: right;\">     0.6</td><td><          </td><td style=\"text-align: right;\">     92.2</td><td><          </td><td style=\"text-align: right;\">     54.3</td><td>           </td></tr>\n",
       "<tr><td>034143-355254</td><td>03:41:43.81</td><td>-35:52:54.1</td><td style=\"text-align: right;\">       0.23</td><td style=\"text-align: right;\">        3  </td><td style=\"text-align: right;\">   5.5</td><td style=\"text-align: right;\">     0.5</td><td><          </td><td style=\"text-align: right;\">     36.9</td><td><          </td><td style=\"text-align: right;\">     33.8</td><td>           </td></tr>\n",
       "<tr><td>034151-354355</td><td>03:41:51.78</td><td>-35:43:55.1</td><td style=\"text-align: right;\">       0.56</td><td style=\"text-align: right;\">        7.2</td><td style=\"text-align: right;\">   3.9</td><td style=\"text-align: right;\">     0.6</td><td><          </td><td style=\"text-align: right;\">     82.3</td><td><          </td><td style=\"text-align: right;\">     61.4</td><td>S*         </td></tr>\n",
       "<tr><td>034200-350158</td><td>03:42:00.25</td><td>-35:01:58.9</td><td style=\"text-align: right;\">       0.72</td><td style=\"text-align: right;\">       13.3</td><td style=\"text-align: right;\">   2.7</td><td style=\"text-align: right;\">     0.6</td><td><          </td><td style=\"text-align: right;\">    113  </td><td><          </td><td style=\"text-align: right;\">     75  </td><td>           </td></tr>\n",
       "<tr><td>034225-350652</td><td>03:42:25.96</td><td>-35:06:52.9</td><td style=\"text-align: right;\">       0.13</td><td style=\"text-align: right;\">        1.6</td><td style=\"text-align: right;\">  11.1</td><td style=\"text-align: right;\">     0.6</td><td><          </td><td style=\"text-align: right;\">     38.9</td><td><          </td><td style=\"text-align: right;\">     23.6</td><td>           </td></tr>\n",
       "</tbody>\n",
       "</table>"
      ],
      "text/plain": [
       "<IPython.core.display.HTML object>"
      ]
     },
     "metadata": {},
     "output_type": "display_data"
    }
   ],
   "source": [
    "import tabulate \n",
    "\n",
    "display(HTML(tabulate.tabulate(sources, tablefmt='html',headers=\"keys\")))"
   ]
  },
  {
   "cell_type": "markdown",
   "metadata": {
    "collapsed": true,
    "deletable": true,
    "editable": true
   },
   "source": [
    "### Simulate continuum image\n",
    "\n",
    "- simulate continuum image of size of input datacube stored in the working directory\n",
    "- continuum sources of the image are taken from the output of the catalog query.\n"
   ]
  },
  {
   "cell_type": "code",
   "execution_count": 5,
   "metadata": {
    "collapsed": false,
    "deletable": true,
    "editable": true
   },
   "outputs": [
    {
     "name": "stdout",
     "output_type": "stream",
     "text": [
      "# Total number of sources: \t42\n",
      "# Sources below threshold: \t1\n",
      "# Sources outside f.o.v.:\t41\n",
      "# Sources to analyze: \t\t0\n",
      "\n",
      "\t+------+\n",
      "\t Done \n",
      " continuum image in: /Users/maccagni/notebooks/sharpener/examples/continuum_image.fits\n",
      "\t+------+\n"
     ]
    }
   ],
   "source": [
    "import cont_src as cont_src\n",
    "\n",
    "# Set working directory & filenames\n",
    "spar.cfg_par['general']['workdir'] = '/Users/maccagni/notebooks/sharpener/examples/'\n",
    "tablename = spar.cfg_par['general']['workdir']+'nvss_query_table.txt'\n",
    "datacubename = spar.cfg_par['general']['workdir']+'cube.fits'\n",
    "outputname = spar.cfg_par['general']['workdir']+'continuum_image.fits'\n",
    "\n",
    "sources = cont_src.sim_cont_from_cube(tablename,'NVSS',datacubename,outputname)\n",
    "\n",
    "\n",
    "if sources == 0:\n",
    "    print '\\t+------+\\n\\t Done \\n continuum image in: '+outputname+'\\n\\t+------+'"
   ]
  },
  {
   "cell_type": "code",
   "execution_count": null,
   "metadata": {
    "collapsed": true,
    "deletable": true,
    "editable": true
   },
   "outputs": [],
   "source": []
  },
  {
   "cell_type": "code",
   "execution_count": null,
   "metadata": {
    "collapsed": true,
    "deletable": true,
    "editable": true
   },
   "outputs": [],
   "source": []
  },
  {
   "cell_type": "code",
   "execution_count": null,
   "metadata": {
    "collapsed": true,
    "deletable": true,
    "editable": true
   },
   "outputs": [],
   "source": []
  },
  {
   "cell_type": "code",
   "execution_count": null,
   "metadata": {
    "collapsed": true,
    "deletable": true,
    "editable": true
   },
   "outputs": [],
   "source": []
  }
 ],
 "metadata": {
  "anaconda-cloud": {},
  "kernelspec": {
   "display_name": "Python [conda root]",
   "language": "python",
   "name": "conda-root-py"
  },
  "language_info": {
   "codemirror_mode": {
    "name": "ipython",
    "version": 2
   },
   "file_extension": ".py",
   "mimetype": "text/x-python",
   "name": "python",
   "nbconvert_exporter": "python",
   "pygments_lexer": "ipython2",
   "version": "2.7.12"
  }
 },
 "nbformat": 4,
 "nbformat_minor": 1
}
