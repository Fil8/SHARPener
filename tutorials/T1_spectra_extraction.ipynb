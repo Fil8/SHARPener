{
 "cells": [
  {
   "cell_type": "markdown",
   "metadata": {
    "deletable": true,
    "editable": true
   },
   "source": [
    "## SHARPener: tools for HI absorption line finding and analysis\n",
    "\n"
   ]
  },
  {
   "cell_type": "code",
   "execution_count": 1,
   "metadata": {
    "collapsed": false,
    "deletable": true,
    "editable": true
   },
   "outputs": [
    {
     "name": "stdout",
     "output_type": "stream",
     "text": [
      "Setup logger with lib.setup_logger()\n"
     ]
    },
    {
     "name": "stderr",
     "output_type": "stream",
     "text": [
      "\n",
      "Bad key \"backed\" on line 1 in\n",
      "/Users/maccagni/.matplotlib/matplotlibrc.\n",
      "You probably need to get an updated matplotlibrc file from\n",
      "http://github.com/matplotlib/matplotlib/blob/master/matplotlibrc.template\n",
      "or from the matplotlib source distribution\n"
     ]
    },
    {
     "name": "stdout",
     "output_type": "stream",
     "text": [
      "\t+------+\n",
      "\t  Done \n",
      "\t+------+\n"
     ]
    }
   ],
   "source": [
    "import os, string, sys\n",
    "import numpy as np\n",
    "import pyaml, json\n",
    "from astropy.io import ascii\n",
    "\n",
    "from IPython.display import HTML, display\n",
    "\n",
    "import sharpener as sharpy\n",
    "\n",
    "print '\\t+------+\\n\\t  Done \\n\\t+------+'"
   ]
  },
  {
   "cell_type": "markdown",
   "metadata": {
    "deletable": true,
    "editable": true
   },
   "source": [
    "### Load and modify parameter file"
   ]
  },
  {
   "cell_type": "code",
   "execution_count": 2,
   "metadata": {
    "collapsed": false,
    "deletable": true,
    "editable": true
   },
   "outputs": [
    {
     "name": "stdout",
     "output_type": "stream",
     "text": [
      "\t+------+\n",
      "\t Sharpener \n",
      "\t Parameter File \n",
      "\t+------+\n",
      "\t+------+\n",
      "\t Parameters Loaded \n",
      "\t+------+\n",
      "{\n",
      "    \"abs_plot\": {\n",
      "        \"__helpstr\": \"plot spectra from a given folder\", \n",
      "        \"enable\": false, \n",
      "        \"redshift_sources\": [\n",
      "            \"800 2200\"\n",
      "        ], \n",
      "        \"title\": null\n",
      "    }, \n",
      "    \"general\": {\n",
      "        \"__helpstr\": \"General INPUT directories and filenames\", \n",
      "        \"absdir\": \"/Users/maccagni/Projects/FornaX/ATCA/abs/\", \n",
      "        \"contname\": \"/Users/maccagni/Projects/FornaX/ATCA/cont/cont_im.fits\", \n",
      "        \"cubename\": \"/Users/maccagni/Projects/FornaX/ATCA/cube/mfs_atca.fits\", \n",
      "        \"mircontname\": \"cont_im.mir\", \n",
      "        \"plotdir\": \"/Users/maccagni/Projects/FornaX/ATCA/plot/\", \n",
      "        \"specdir\": \"/Users/maccagni/Projects/FornaX/ATCA/spec/\", \n",
      "        \"verbose\": false, \n",
      "        \"workdir\": \"/Users/maccagni/Projects/FornaX/ATCA/\"\n",
      "    }, \n",
      "    \"hanning\": {\n",
      "        \"__helpstr\": \"Hanning smoothing spectrum\", \n",
      "        \"enable\": false, \n",
      "        \"window\": 3\n",
      "    }, \n",
      "    \"polynomial_subtraction\": {\n",
      "        \"__helpstr\": \"Subtract polynomial from spectrum to improve continuum subtraction\", \n",
      "        \"degree_pol\": 6, \n",
      "        \"enable\": false\n",
      "    }, \n",
      "    \"simulate_continuum\": {\n",
      "        \"__helpstr\": \"Simulate continuum from source catalog output\", \n",
      "        \"enable\": false\n",
      "    }, \n",
      "    \"source_catalog\": {\n",
      "        \"__helpstr\": \"Find sources in a f.o.v. from source_catalog\", \n",
      "        \"catalog\": \"NVSS\", \n",
      "        \"centre_coord\": [\n",
      "            \"03:40:0.989\", \n",
      "            \"-35:28:34.53\"\n",
      "        ], \n",
      "        \"enable\": false, \n",
      "        \"thresh\": 30, \n",
      "        \"width\": \"5.2d\"\n",
      "    }, \n",
      "    \"source_finder\": {\n",
      "        \"__helpstr\": \"Find sources in continuum image using miriad imsad\", \n",
      "        \"clip\": \"5e-3\", \n",
      "        \"enable\": true, \n",
      "        \"options\": null, \n",
      "        \"region\": null\n",
      "    }, \n",
      "    \"spec_ex\": {\n",
      "        \"__helpstr\": \"Extract spectra from datacube\", \n",
      "        \"chrom_aberration\": false, \n",
      "        \"enable\": true, \n",
      "        \"flag_chans\": null, \n",
      "        \"zunit\": \"m/s\"\n",
      "    }\n",
      "}\n"
     ]
    }
   ],
   "source": [
    "print '\\t+------+\\n\\t Sharpener \\n\\t Parameter File \\n\\t+------+'\n",
    "\n",
    "spar = sharpy.sharpener('/Users/maccagni/notebooks/sharpener/sharpener_default.yml')\n",
    "\n",
    "print '\\t+------+\\n\\t Parameters Loaded \\n\\t+------+'\n",
    "\n",
    "#print parameter file \n",
    "print(json.dumps(spar.cfg_par, indent=4, sort_keys=True))\n"
   ]
  },
  {
   "cell_type": "code",
   "execution_count": 3,
   "metadata": {
    "collapsed": false,
    "deletable": true,
    "editable": true
   },
   "outputs": [
    {
     "name": "stdout",
     "output_type": "stream",
     "text": [
      "/Volumes/macDrive/ApertiF/SHARP/data/NGC1315/abs/\n",
      "\t+------+\n",
      "\t Parameters modified \n",
      "\t+------+\n"
     ]
    }
   ],
   "source": [
    "# Set working directory & filenames\n",
    "spar.cfg_par['general']['workdir'] = '/Volumes/macDrive/ApertiF/SHARP/data/NGC1315/'\n",
    "spar.cfg_par['general']['contname'] ='cont_im.fits'\n",
    "spar.cfg_par['general']['cubename'] = 'cube.fits'\n",
    "\n",
    "# Enable / disable modules\n",
    "spar.cfg_par['source_finder']['enable'] = True\n",
    "spar.cfg_par['spec_ex']['enable'] = True\n",
    "spar.cfg_par['abs_plot']['enable'] = True\n",
    "\n",
    "# Options\n",
    "\n",
    "spar.cfg_par['spec_ex']['clip'] = 5e-3\n",
    "spar.cfg_par['spec_ex']['chrom_aberration'] = True\n",
    "\n",
    "\n",
    "spar.set_dirs()\n",
    "\n",
    "\n",
    "print spar.cfg_par['general']['absdir']\n",
    "print '\\t+------+\\n\\t Parameters modified \\n\\t+------+'\n"
   ]
  },
  {
   "cell_type": "markdown",
   "metadata": {
    "deletable": true,
    "editable": true
   },
   "source": [
    "### Find continuum sources in an image"
   ]
  },
  {
   "cell_type": "code",
   "execution_count": 4,
   "metadata": {
    "collapsed": false,
    "deletable": true,
    "editable": true,
    "scrolled": false
   },
   "outputs": [
    {
     "name": "stdout",
     "output_type": "stream",
     "text": [
      "Help on function find_src_imsad in module cont_src:\n",
      "\n",
      "find_src_imsad(cfg_par)\n",
      "    Finds the continuum sources according to the options set in the source_finder sub-keys\n",
      "    INPUT:\n",
      "            cfg_par : parameter file loaded with sharpener\n",
      "    OUTPUT:\n",
      "            csv table of continuum sources (output of MIRIAD imsad)\n",
      "\n",
      "# Find continuum sources \n",
      "+0+29:59:05\n",
      "+0+29 29\n",
      "+0+30:08:20\n",
      "+0+30 30\n",
      "+0+30:12:08\n",
      "+0+30 30\n",
      "+0+30:14:59\n",
      "+0+30 30\n",
      "+0+30:21:17\n",
      "+0+30 30\n",
      "+0+30:20:02\n",
      "+0+30 30\n",
      "+0+30:32:24\n",
      "+0+30 30\n",
      "+0+30:32:45\n",
      "+0+30 30\n",
      "+0+30:34:58\n",
      "+0+30 30\n",
      "+0+30:36:42\n",
      "+0+30 30\n",
      "# List of continuum sources saved on file. #\n",
      "# Continuum sources found #\n"
     ]
    },
    {
     "data": {
      "text/html": [
       "<table>\n",
       "<thead>\n",
       "<tr><th style=\"text-align: right;\">  ID</th><th>J2000       </th><th>ra         </th><th>dec      </th><th style=\"text-align: right;\">  Pix_x</th><th style=\"text-align: right;\">  Pix_y</th><th style=\"text-align: right;\">    peak</th></tr>\n",
       "</thead>\n",
       "<tbody>\n",
       "<tr><td style=\"text-align: right;\">   1</td><td>005652+9595 </td><td>00:56:51.85</td><td>+29:59:5 </td><td style=\"text-align: right;\">    331</td><td style=\"text-align: right;\">    122</td><td style=\"text-align: right;\">0.01535 </td></tr>\n",
       "<tr><td style=\"text-align: right;\">   2</td><td>005628+00820</td><td>00:56:28.23</td><td>+30:08:20</td><td style=\"text-align: right;\">    363</td><td style=\"text-align: right;\">    179</td><td style=\"text-align: right;\">0.009824</td></tr>\n",
       "<tr><td style=\"text-align: right;\">   3</td><td>005921+0128 </td><td>00:59:21.15</td><td>+30:12:8 </td><td style=\"text-align: right;\">    135</td><td style=\"text-align: right;\">    202</td><td style=\"text-align: right;\">0.01229 </td></tr>\n",
       "<tr><td style=\"text-align: right;\">   4</td><td>005828+01459</td><td>00:58:28.11</td><td>+30:14:59</td><td style=\"text-align: right;\">    205</td><td style=\"text-align: right;\">    219</td><td style=\"text-align: right;\">0.01353 </td></tr>\n",
       "<tr><td style=\"text-align: right;\">   5</td><td>005748+02117</td><td>00:57:48.15</td><td>+30:21:17</td><td style=\"text-align: right;\">    257</td><td style=\"text-align: right;\">    257</td><td style=\"text-align: right;\">0.5062  </td></tr>\n",
       "<tr><td style=\"text-align: right;\">   6</td><td>010023+0202 </td><td>01:00:22.91</td><td>+30:20:2 </td><td style=\"text-align: right;\">     53</td><td style=\"text-align: right;\">    251</td><td style=\"text-align: right;\">0.01122 </td></tr>\n",
       "<tr><td style=\"text-align: right;\">   7</td><td>005650+03224</td><td>00:56:50.45</td><td>+30:32:24</td><td style=\"text-align: right;\">    333</td><td style=\"text-align: right;\">    325</td><td style=\"text-align: right;\">0.01014 </td></tr>\n",
       "<tr><td style=\"text-align: right;\">   8</td><td>005725+03245</td><td>00:57:25.28</td><td>+30:32:45</td><td style=\"text-align: right;\">    287</td><td style=\"text-align: right;\">    327</td><td style=\"text-align: right;\">0.01104 </td></tr>\n",
       "<tr><td style=\"text-align: right;\">   9</td><td>010030+03458</td><td>01:00:29.71</td><td>+30:34:58</td><td style=\"text-align: right;\">     45</td><td style=\"text-align: right;\">    343</td><td style=\"text-align: right;\">0.005176</td></tr>\n",
       "<tr><td style=\"text-align: right;\">  10</td><td>005837+03642</td><td>00:58:36.80</td><td>+30:36:42</td><td style=\"text-align: right;\">    193</td><td style=\"text-align: right;\">    351</td><td style=\"text-align: right;\">0.009467</td></tr>\n",
       "</tbody>\n",
       "</table>"
      ],
      "text/plain": [
       "<IPython.core.display.HTML object>"
      ]
     },
     "metadata": {},
     "output_type": "display_data"
    },
    {
     "name": "stdout",
     "output_type": "stream",
     "text": [
      "\t+------+\n",
      "\t Done \n",
      "\t+------+\n"
     ]
    }
   ],
   "source": [
    "import tabulate\n",
    "import cont_src as cont_src\n",
    "\n",
    "help(cont_src.find_src_imsad)\n",
    "\n",
    "#find sources\n",
    "sources = cont_src.find_src_imsad(spar.cfg_par)\n",
    "#load and print output table\n",
    "tot = ascii.read(spar.cfg_par['general']['absdir']+'mir_src_sharpener.csv' )\n",
    "display(HTML(tabulate.tabulate(tot, tablefmt='html',headers=\"keys\")))\n",
    "\n",
    "\n",
    "print '\\t+------+\\n\\t Done \\n\\t+------+'\n"
   ]
  },
  {
   "cell_type": "markdown",
   "metadata": {
    "deletable": true,
    "editable": true
   },
   "source": [
    "### Extract spectra"
   ]
  },
  {
   "cell_type": "code",
   "execution_count": 5,
   "metadata": {
    "collapsed": false,
    "deletable": true,
    "editable": true,
    "scrolled": false
   },
   "outputs": [
    {
     "name": "stdout",
     "output_type": "stream",
     "text": [
      "# Total number of sources: \t10\n",
      "# Sources below threshold: \t0\n",
      "# Sources outside f.o.v.:\t2\n",
      "# Sources to analyze: \t\t8\n",
      "\n",
      "\n",
      "# Total number of sources: \t10\n",
      "# Sources flagged: \t\t2\n",
      "# Blank spectra:\t\t0\n",
      "# Total number of spectra: \t8\n",
      "# Average noise in spectra: \t9.5 mJy/beam\n",
      "\t+------+\n",
      "\t Spectra extracted \n",
      "\t+------+\n"
     ]
    }
   ],
   "source": [
    "import spec_ex as spec_ex\n",
    "\n",
    "spectra = spec_ex.abs_ex(spar.cfg_par)\n",
    "\n",
    "print '\\t+------+\\n\\t Spectra extracted \\n\\t+------+'\n"
   ]
  },
  {
   "cell_type": "markdown",
   "metadata": {
    "deletable": true,
    "editable": true
   },
   "source": [
    "### Plot spectra"
   ]
  },
  {
   "cell_type": "code",
   "execution_count": 6,
   "metadata": {
    "collapsed": false,
    "deletable": true,
    "editable": true
   },
   "outputs": [
    {
     "name": "stdout",
     "output_type": "stream",
     "text": [
      "\t+------+\n",
      "\t Plots done \n",
      "\t+------+\n"
     ]
    }
   ],
   "source": [
    "import glob\n",
    "import absorption_plot as abs_pl\n",
    "\n",
    "#load spectra from absorption directory\n",
    "spectra = glob.glob('/Volumes/macDrive/ApertiF/SHARP/data/NGC1315/spec/*.txt')\n",
    "for i in xrange(0,len(spectra)):\n",
    "    spectra[i] = os.path.basename(spectra[i])\n",
    "\n",
    "#plot spectra\n",
    "    abs_pl.abs_plot(spectra[i],spar.cfg_par)\n",
    "\n",
    "print '\\t+------+\\n\\t Plots done \\n\\t+------+'\n"
   ]
  },
  {
   "cell_type": "code",
   "execution_count": null,
   "metadata": {
    "collapsed": true,
    "deletable": true,
    "editable": true
   },
   "outputs": [],
   "source": []
  },
  {
   "cell_type": "code",
   "execution_count": null,
   "metadata": {
    "collapsed": true,
    "deletable": true,
    "editable": true
   },
   "outputs": [],
   "source": []
  }
 ],
 "metadata": {
  "anaconda-cloud": {},
  "kernelspec": {
   "display_name": "Python [conda root]",
   "language": "python",
   "name": "conda-root-py"
  },
  "language_info": {
   "codemirror_mode": {
    "name": "ipython",
    "version": 2
   },
   "file_extension": ".py",
   "mimetype": "text/x-python",
   "name": "python",
   "nbconvert_exporter": "python",
   "pygments_lexer": "ipython2",
   "version": "2.7.12"
  }
 },
 "nbformat": 4,
 "nbformat_minor": 1
}
