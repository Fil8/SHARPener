{
 "cells": [
  {
   "cell_type": "markdown",
   "metadata": {
    "deletable": true,
    "editable": true
   },
   "source": [
    "# SHARPener: tools for HI absorption line finding and analysis\n",
    "\n"
   ]
  },
  {
   "cell_type": "code",
   "execution_count": 1,
   "metadata": {
    "collapsed": false,
    "deletable": true,
    "editable": true
   },
   "outputs": [
    {
     "name": "stdout",
     "output_type": "stream",
     "text": [
      "Setup logger with lib.setup_logger()\n"
     ]
    },
    {
     "name": "stderr",
     "output_type": "stream",
     "text": [
      "\n",
      "Bad key \"backed\" on line 1 in\n",
      "/Users/maccagni/.matplotlib/matplotlibrc.\n",
      "You probably need to get an updated matplotlibrc file from\n",
      "http://github.com/matplotlib/matplotlib/blob/master/matplotlibrc.template\n",
      "or from the matplotlib source distribution\n"
     ]
    },
    {
     "name": "stdout",
     "output_type": "stream",
     "text": [
      "Help on module sharpener:\n",
      "\n",
      "NAME\n",
      "    sharpener\n",
      "\n",
      "FILE\n",
      "    /Users/maccagni/notebooks/sharpener/sharpener.py\n",
      "\n",
      "CLASSES\n",
      "    sharpener\n",
      "    \n",
      "    class sharpener\n",
      "     |  Class for spectral studies (find continuum sources, extract spectra, analyze spectra)\n",
      "     |  \n",
      "     |  Methods defined here:\n",
      "     |  \n",
      "     |  __init__(self, file=None)\n",
      "     |      Set logger for spectrum extraction\n",
      "     |      Find config file\n",
      "     |      If not specified by user load sharpener_default.yml\n",
      "     |  \n",
      "     |  enable_task(self, config, task)\n",
      "     |  \n",
      "     |  go(self)\n",
      "     |      Calls the following functions\n",
      "     |      \n",
      "     |      - cont_src\n",
      "     |       -- source_catalog\n",
      "     |              finds sources above threshold in a catalog\n",
      "     |       -- mosaic_continuum\n",
      "     |              creates mosaic of continuum images\n",
      "     |       -- find_src_imsad (continuum)\n",
      "     |              finds sources in a continuum image using MIRIAD imsad source finder\n",
      "     |      - spec_ex\n",
      "     |       -- abs_ex\n",
      "     |              extracts spectra given \n",
      "     |      - abs_plot\n",
      "     |       -- abs_plot\n",
      "     |              plots spectra\n",
      "     |  \n",
      "     |  set_dirs(self)\n",
      "     |      Sets directory strucure and filenames\n",
      "     |      Creates directory abs/ in basedir+beam and subdirectories spec/ and plot/\n",
      "     |      \n",
      "     |      OUTPUT:\n",
      "     |              tab : table of catalog\n",
      "     |              flux : flux of continuum sources abouve set threshold\n",
      "     |  \n",
      "     |  ----------------------------------------------------------------------\n",
      "     |  Data and other attributes defined here:\n",
      "     |  \n",
      "     |  C = 299792.458\n",
      "     |  \n",
      "     |  HI = 1420405751.0\n",
      "\n",
      "DATA\n",
      "    __author__ = 'Filippo Maccagni'\n",
      "    __copyright__ = 'RadioLife'\n",
      "    __email__ = 'filippo.maccagni@gmail.com'\n",
      "    __status__ = 'Development'\n",
      "    __version__ = '1.0.0'\n",
      "\n",
      "VERSION\n",
      "    1.0.0\n",
      "\n",
      "AUTHOR\n",
      "    Filippo Maccagni\n",
      "\n",
      "\n",
      "None\n",
      "\t+------+\n",
      "\t  Done \n",
      "\t+------+\n"
     ]
    }
   ],
   "source": [
    "import os, string, sys\n",
    "import numpy as np\n",
    "import pyaml\n",
    "from astropy.io import ascii\n",
    "\n",
    "from IPython.display import HTML, display\n",
    "\n",
    "import sharpener as sharpy\n",
    "\n",
    "\n",
    "print help(sharpy)\n",
    "\n",
    "print '\\t+------+\\n\\t  Done \\n\\t+------+'"
   ]
  },
  {
   "cell_type": "markdown",
   "metadata": {
    "deletable": true,
    "editable": true
   },
   "source": [
    "## Load and modify parameter file"
   ]
  },
  {
   "cell_type": "code",
   "execution_count": 2,
   "metadata": {
    "collapsed": false,
    "deletable": true,
    "editable": true
   },
   "outputs": [
    {
     "name": "stdout",
     "output_type": "stream",
     "text": [
      "\t+------+\n",
      "\t Sharpener \n",
      "\t Parameter File \n",
      "\t+------+\n",
      "{\n",
      "    \"abs_plot\": {\n",
      "        \"__helpstr\": \"plot spectra\", \n",
      "        \"enable\": true, \n",
      "        \"redshift_sources\": [\n",
      "            \"800 2200\"\n",
      "        ], \n",
      "        \"title\": null\n",
      "    }, \n",
      "    \"general\": {\n",
      "        \"__helpstr\": \"General INPUT directories and filenames\", \n",
      "        \"contname\": \"cont/cont_im.fits\", \n",
      "        \"cubename\": \"cube/mfs_atca.fits\", \n",
      "        \"verbose\": false, \n",
      "        \"workdir\": \"/Users/maccagni/Projects/FornaX/ATCA/\"\n",
      "    }, \n",
      "    \"hanning\": {\n",
      "        \"__helpstr\": \"Hanning smoothing spectrum\", \n",
      "        \"enable\": true, \n",
      "        \"window\": 3\n",
      "    }, \n",
      "    \"polynomial_subtraction\": {\n",
      "        \"__helpstr\": \"Subtract polynomial from spectrum\", \n",
      "        \"degree_pol\": 6, \n",
      "        \"enable\": true\n",
      "    }, \n",
      "    \"simulate_continuum\": {\n",
      "        \"__helpstr\": \"Simulate continuum from source catalog\", \n",
      "        \"enable\": true\n",
      "    }, \n",
      "    \"source_catalog\": {\n",
      "        \"__helpstr\": \"Find sources in a f.o.v. from source_catalog\", \n",
      "        \"catalog\": \"NVSS\", \n",
      "        \"centre_coord\": [\n",
      "            \"03:40:0.989\", \n",
      "            \"-35:28:34.53\"\n",
      "        ], \n",
      "        \"enable\": true, \n",
      "        \"thresh\": 30, \n",
      "        \"width\": \"5.2d\"\n",
      "    }, \n",
      "    \"source_finder\": {\n",
      "        \"__helpstr\": \"Find sources in continuum image using miriad imsad\", \n",
      "        \"clip\": \"5e-3\", \n",
      "        \"enable\": false, \n",
      "        \"options\": null, \n",
      "        \"region\": null\n",
      "    }, \n",
      "    \"spec_ex\": {\n",
      "        \"__helpstr\": \"Extract spectra from datacube\", \n",
      "        \"chrom_aberration\": true, \n",
      "        \"enable\": true, \n",
      "        \"flag_chans\": null, \n",
      "        \"zunit\": \"hz\"\n",
      "    }\n",
      "}\n",
      "\t+------+\n",
      "\t Loaded \n",
      "\t+------+\n"
     ]
    }
   ],
   "source": [
    "print '\\t+------+\\n\\t Sharpener \\n\\t Parameter File \\n\\t+------+'\n",
    "\n",
    "spar = sharpy.sharpener('/Users/maccagni/notebooks/sharpener/sharpener_default.yml')\n",
    "\n",
    "print '\\t+------+\\n\\t Parameters loeaded Loaded \\n\\t+------+'\n"
   ]
  },
  {
   "cell_type": "code",
   "execution_count": 3,
   "metadata": {
    "collapsed": false,
    "deletable": true,
    "editable": true
   },
   "outputs": [
    {
     "name": "stdout",
     "output_type": "stream",
     "text": [
      "\t+------+\n",
      "\t Parameters modified \n",
      "\t+------+\n"
     ]
    }
   ],
   "source": [
    "# Set working directory & filenames\n",
    "spar.cfg_par['general']['workdir'] = '/Users/maccagni/Projects/MFS/FornaxA/MeerKAT/fa2/cubes/p1/'\n",
    "spar.cfg_par['general']['contname'] ='fa2_p1_2-MFS-image.fits'\n",
    "spar.cfg_par['general']['cubename'] = 'fa2_p1_HI.image.fits'\n",
    "\n",
    "# Enable / disable modules\n",
    "spar.cfg_par['source_finder']['enable'] = True\n",
    "spar.cfg_par['abs_plot']['enable'] = False\n",
    "spar.cfg_par['source_catalog']['enable'] = False\n",
    "spar.cfg_par['polynomial_subtraction']['enable'] = False\n",
    "spar.cfg_par['hanning']['enable'] = False\n",
    "spar.cfg_par['spec_ex']['chrom_aberration'] = False\n",
    "\n",
    "spar.set_dirs()\n",
    "# Options\n",
    "print '\\t+------+\\n\\t Parameters modified \\n\\t+------+'\n"
   ]
  },
  {
   "cell_type": "markdown",
   "metadata": {
    "deletable": true,
    "editable": true
   },
   "source": [
    "## Find continuum sources in an image"
   ]
  },
  {
   "cell_type": "code",
   "execution_count": 4,
   "metadata": {
    "collapsed": false,
    "deletable": true,
    "editable": true,
    "scrolled": false
   },
   "outputs": [
    {
     "name": "stdout",
     "output_type": "stream",
     "text": [
      "Help on function find_src_imsad in module cont_src:\n",
      "\n",
      "find_src_imsad(cfg_par)\n",
      "    Finds the continuum sources according to the options set in the source_finder sub-keys\n",
      "    INPUT:\n",
      "            cfg_par : parameter file loaded with sharpener\n",
      "    OUTPUT:\n",
      "            csv table of continuum sources (output of MIRIAD imsad)\n",
      "\n",
      "# Find continuum sources \n",
      "# List of continuum sources saved on file. #\n",
      "# Continuum sources found #\n"
     ]
    },
    {
     "data": {
      "text/html": [
       "<table>\n",
       "<thead>\n",
       "<tr><th style=\"text-align: right;\">  ID</th><th>J2000        </th><th>ra         </th><th>dec      </th><th style=\"text-align: right;\">  Pix_x</th><th style=\"text-align: right;\">  Pix_y</th><th style=\"text-align: right;\">     peak</th></tr>\n",
       "</thead>\n",
       "<tbody>\n",
       "<tr><td style=\"text-align: right;\">   1</td><td>032351+375619</td><td>03:23:51.38</td><td>-37:56:19</td><td style=\"text-align: right;\">    278</td><td style=\"text-align: right;\">     97</td><td style=\"text-align: right;\"> 0.01039 </td></tr>\n",
       "<tr><td style=\"text-align: right;\">   2</td><td>032346+374958</td><td>03:23:45.99</td><td>-37:49:58</td><td style=\"text-align: right;\">    284</td><td style=\"text-align: right;\">    135</td><td style=\"text-align: right;\"> 0.01454 </td></tr>\n",
       "<tr><td style=\"text-align: right;\">   3</td><td>032224+374915</td><td>03:22:24.28</td><td>-37:49:15</td><td style=\"text-align: right;\">    381</td><td style=\"text-align: right;\">    139</td><td style=\"text-align: right;\"> 0.03133 </td></tr>\n",
       "<tr><td style=\"text-align: right;\">   4</td><td>032236+374512</td><td>03:22:36.07</td><td>-37:45:12</td><td style=\"text-align: right;\">    367</td><td style=\"text-align: right;\">    164</td><td style=\"text-align: right;\"> 0.0509  </td></tr>\n",
       "<tr><td style=\"text-align: right;\">   5</td><td>032134+374529</td><td>03:21:34.39</td><td>-37:45:29</td><td style=\"text-align: right;\">    440</td><td style=\"text-align: right;\">    162</td><td style=\"text-align: right;\"> 0.005456</td></tr>\n",
       "<tr><td style=\"text-align: right;\">   6</td><td>032203+373634</td><td>03:22:03.35</td><td>-37:36:34</td><td style=\"text-align: right;\">    406</td><td style=\"text-align: right;\">    216</td><td style=\"text-align: right;\"> 0.006924</td></tr>\n",
       "<tr><td style=\"text-align: right;\">   7</td><td>032404+373333</td><td>03:24:03.77</td><td>-37:33:33</td><td style=\"text-align: right;\">    262</td><td style=\"text-align: right;\">    234</td><td style=\"text-align: right;\"> 0.01114 </td></tr>\n",
       "<tr><td style=\"text-align: right;\">   8</td><td>032419+372218</td><td>03:24:18.88</td><td>-37:22:18</td><td style=\"text-align: right;\">    244</td><td style=\"text-align: right;\">    301</td><td style=\"text-align: right;\"> 0.03965 </td></tr>\n",
       "<tr><td style=\"text-align: right;\">   9</td><td>032323+372926</td><td>03:23:22.99</td><td>-37:29:26</td><td style=\"text-align: right;\">    311</td><td style=\"text-align: right;\">    258</td><td style=\"text-align: right;\"> 0.005657</td></tr>\n",
       "<tr><td style=\"text-align: right;\">  10</td><td>032245+372860</td><td>03:22:44.99</td><td>-37:28:60</td><td style=\"text-align: right;\">    356</td><td style=\"text-align: right;\">    261</td><td style=\"text-align: right;\"> 0.01108 </td></tr>\n",
       "<tr><td style=\"text-align: right;\">  11</td><td>032356+372830</td><td>03:23:55.64</td><td>-37:28:30</td><td style=\"text-align: right;\">    272</td><td style=\"text-align: right;\">    264</td><td style=\"text-align: right;\"> 0.005143</td></tr>\n",
       "<tr><td style=\"text-align: right;\">  12</td><td>032401+37282 </td><td>03:24:00.86</td><td>-37:28:2 </td><td style=\"text-align: right;\">    266</td><td style=\"text-align: right;\">    267</td><td style=\"text-align: right;\"> 0.005879</td></tr>\n",
       "<tr><td style=\"text-align: right;\">  13</td><td>032052+372811</td><td>03:20:52.04</td><td>-37:28:11</td><td style=\"text-align: right;\">    491</td><td style=\"text-align: right;\">    266</td><td style=\"text-align: right;\"> 0.00597 </td></tr>\n",
       "<tr><td style=\"text-align: right;\">  14</td><td>032222+372648</td><td>03:22:22.41</td><td>-37:26:48</td><td style=\"text-align: right;\">    383</td><td style=\"text-align: right;\">    274</td><td style=\"text-align: right;\"> 0.04554 </td></tr>\n",
       "<tr><td style=\"text-align: right;\">  15</td><td>032302+372148</td><td>03:23:01.84</td><td>-37:21:48</td><td style=\"text-align: right;\">    336</td><td style=\"text-align: right;\">    304</td><td style=\"text-align: right;\"> 0.007773</td></tr>\n",
       "<tr><td style=\"text-align: right;\">  16</td><td>032317+372243</td><td>03:23:16.54</td><td>-37:22:43</td><td style=\"text-align: right;\">    318</td><td style=\"text-align: right;\">    299</td><td style=\"text-align: right;\"> 0.005626</td></tr>\n",
       "<tr><td style=\"text-align: right;\">  17</td><td>032134+371518</td><td>03:21:33.87</td><td>-37:15:18</td><td style=\"text-align: right;\">    441</td><td style=\"text-align: right;\">    343</td><td style=\"text-align: right;\"> 0.05373 </td></tr>\n",
       "<tr><td style=\"text-align: right;\">  18</td><td>032346+37181 </td><td>03:23:45.93</td><td>-37:18:1 </td><td style=\"text-align: right;\">    283</td><td style=\"text-align: right;\">    327</td><td style=\"text-align: right;\">-0.3423  </td></tr>\n",
       "<tr><td style=\"text-align: right;\">  19</td><td>032323+371854</td><td>03:23:23.16</td><td>-37:18:54</td><td style=\"text-align: right;\">    311</td><td style=\"text-align: right;\">    322</td><td style=\"text-align: right;\"> 0.005522</td></tr>\n",
       "<tr><td style=\"text-align: right;\">  20</td><td>032201+37168 </td><td>03:22:01.05</td><td>-37:16:8 </td><td style=\"text-align: right;\">    409</td><td style=\"text-align: right;\">    338</td><td style=\"text-align: right;\"> 0.0121  </td></tr>\n",
       "<tr><td style=\"text-align: right;\">  21</td><td>032340+371616</td><td>03:23:39.96</td><td>-37:16:16</td><td style=\"text-align: right;\">    290</td><td style=\"text-align: right;\">    337</td><td style=\"text-align: right;\"> 0.005889</td></tr>\n",
       "<tr><td style=\"text-align: right;\">  22</td><td>032115+37045 </td><td>03:21:15.41</td><td>-37:04:5 </td><td style=\"text-align: right;\">    463</td><td style=\"text-align: right;\">    410</td><td style=\"text-align: right;\"> 0.03583 </td></tr>\n",
       "<tr><td style=\"text-align: right;\">  23</td><td>032241+371226</td><td>03:22:41.49</td><td>-37:12:26</td><td style=\"text-align: right;\">    360</td><td style=\"text-align: right;\">    360</td><td style=\"text-align: right;\"> 0.2238  </td></tr>\n",
       "<tr><td style=\"text-align: right;\">  24</td><td>032256+371215</td><td>03:22:56.12</td><td>-37:12:15</td><td style=\"text-align: right;\">    343</td><td style=\"text-align: right;\">    361</td><td style=\"text-align: right;\"> 0.006683</td></tr>\n",
       "<tr><td style=\"text-align: right;\">  25</td><td>032239+37108 </td><td>03:22:38.99</td><td>-37:10:8 </td><td style=\"text-align: right;\">    363</td><td style=\"text-align: right;\">    374</td><td style=\"text-align: right;\"> 0.005134</td></tr>\n",
       "<tr><td style=\"text-align: right;\">  26</td><td>032047+370813</td><td>03:20:47.39</td><td>-37:08:13</td><td style=\"text-align: right;\">    497</td><td style=\"text-align: right;\">    385</td><td style=\"text-align: right;\"> 0.00582 </td></tr>\n",
       "<tr><td style=\"text-align: right;\">  27</td><td>032030+370625</td><td>03:20:29.84</td><td>-37:06:25</td><td style=\"text-align: right;\">    518</td><td style=\"text-align: right;\">    396</td><td style=\"text-align: right;\"> 0.005723</td></tr>\n",
       "<tr><td style=\"text-align: right;\">  28</td><td>032351+370452</td><td>03:23:51.43</td><td>-37:04:52</td><td style=\"text-align: right;\">    277</td><td style=\"text-align: right;\">    406</td><td style=\"text-align: right;\"> 0.006086</td></tr>\n",
       "<tr><td style=\"text-align: right;\">  29</td><td>032353+370260</td><td>03:23:52.53</td><td>-37:02:60</td><td style=\"text-align: right;\">    275</td><td style=\"text-align: right;\">    417</td><td style=\"text-align: right;\"> 0.008695</td></tr>\n",
       "<tr><td style=\"text-align: right;\">  30</td><td>032635+370036</td><td>03:26:34.58</td><td>-37:00:36</td><td style=\"text-align: right;\">     81</td><td style=\"text-align: right;\">    430</td><td style=\"text-align: right;\"> 0.006175</td></tr>\n",
       "<tr><td style=\"text-align: right;\">  31</td><td>032243+370027</td><td>03:22:42.96</td><td>-37:00:27</td><td style=\"text-align: right;\">    358</td><td style=\"text-align: right;\">    432</td><td style=\"text-align: right;\"> 0.005744</td></tr>\n",
       "<tr><td style=\"text-align: right;\">  32</td><td>032033+365727</td><td>03:20:33.21</td><td>-36:57:27</td><td style=\"text-align: right;\">    514</td><td style=\"text-align: right;\">    450</td><td style=\"text-align: right;\"> 0.08816 </td></tr>\n",
       "<tr><td style=\"text-align: right;\">  33</td><td>031932+365628</td><td>03:19:31.63</td><td>-36:56:28</td><td style=\"text-align: right;\">    588</td><td style=\"text-align: right;\">    455</td><td style=\"text-align: right;\"> 0.01262 </td></tr>\n",
       "<tr><td style=\"text-align: right;\">  34</td><td>032139+365444</td><td>03:21:38.84</td><td>-36:54:44</td><td style=\"text-align: right;\">    435</td><td style=\"text-align: right;\">    466</td><td style=\"text-align: right;\"> 0.006134</td></tr>\n",
       "<tr><td style=\"text-align: right;\">  35</td><td>032242+36538 </td><td>03:22:41.68</td><td>-36:53:8 </td><td style=\"text-align: right;\">    360</td><td style=\"text-align: right;\">    476</td><td style=\"text-align: right;\"> 0.01028 </td></tr>\n",
       "<tr><td style=\"text-align: right;\">  36</td><td>032124+365159</td><td>03:21:24.18</td><td>-36:51:59</td><td style=\"text-align: right;\">    453</td><td style=\"text-align: right;\">    483</td><td style=\"text-align: right;\"> 0.005808</td></tr>\n",
       "<tr><td style=\"text-align: right;\">  37</td><td>032434+36478 </td><td>03:24:34.41</td><td>-36:47:8 </td><td style=\"text-align: right;\">    225</td><td style=\"text-align: right;\">    512</td><td style=\"text-align: right;\"> 0.0107  </td></tr>\n",
       "<tr><td style=\"text-align: right;\">  38</td><td>032458+364334</td><td>03:24:58.37</td><td>-36:43:34</td><td style=\"text-align: right;\">    196</td><td style=\"text-align: right;\">    533</td><td style=\"text-align: right;\"> 0.01771 </td></tr>\n",
       "<tr><td style=\"text-align: right;\">  39</td><td>032342+36419 </td><td>03:23:41.97</td><td>-36:41:9 </td><td style=\"text-align: right;\">    288</td><td style=\"text-align: right;\">    548</td><td style=\"text-align: right;\"> 0.008001</td></tr>\n",
       "<tr><td style=\"text-align: right;\">  40</td><td>032434+363526</td><td>03:24:34.34</td><td>-36:35:26</td><td style=\"text-align: right;\">    224</td><td style=\"text-align: right;\">    582</td><td style=\"text-align: right;\"> 0.006455</td></tr>\n",
       "<tr><td style=\"text-align: right;\">  41</td><td>032336+362957</td><td>03:23:36.04</td><td>-36:29:57</td><td style=\"text-align: right;\">    294</td><td style=\"text-align: right;\">    615</td><td style=\"text-align: right;\"> 0.0149  </td></tr>\n",
       "<tr><td style=\"text-align: right;\">  42</td><td>032209+362816</td><td>03:22:09.46</td><td>-36:28:16</td><td style=\"text-align: right;\">    399</td><td style=\"text-align: right;\">    625</td><td style=\"text-align: right;\"> 0.00606 </td></tr>\n",
       "</tbody>\n",
       "</table>"
      ],
      "text/plain": [
       "<IPython.core.display.HTML object>"
      ]
     },
     "metadata": {},
     "output_type": "display_data"
    },
    {
     "name": "stdout",
     "output_type": "stream",
     "text": [
      "\t+------+\n",
      "\t Done \n",
      "\t+------+\n"
     ]
    }
   ],
   "source": [
    "import tabulate\n",
    "import cont_src as cont_src\n",
    "\n",
    "help(cont_src.find_src_imsad)\n",
    "\n",
    "#find sources\n",
    "sources = cont_src.find_src_imsad(spar.cfg_par)\n",
    "#load and print output table\n",
    "tot = ascii.read(spar.cfg_par['general']['absdir']+'mir_src_sharpener.csv' )\n",
    "display(HTML(tabulate.tabulate(tot, tablefmt='html',headers=\"keys\")))\n",
    "\n",
    "\n",
    "print '\\t+------+\\n\\t Done \\n\\t+------+'\n"
   ]
  },
  {
   "cell_type": "markdown",
   "metadata": {
    "deletable": true,
    "editable": true
   },
   "source": [
    "## Extract spectra"
   ]
  },
  {
   "cell_type": "code",
   "execution_count": 5,
   "metadata": {
    "collapsed": false,
    "deletable": true,
    "editable": true,
    "scrolled": false
   },
   "outputs": [
    {
     "name": "stdout",
     "output_type": "stream",
     "text": [
      "# Total number of sources: \t44\n",
      "# Sources below threshold: \t0\n",
      "# Sources outside f.o.v.:\t0\n",
      "# Sources to analyze: \t\t44\n",
      "\n"
     ]
    },
    {
     "name": "stderr",
     "output_type": "stream",
     "text": [
      "/Users/maccagni/programs/anaconda2/lib/python2.7/site-packages/numpy/lib/nanfunctions.py:703: RuntimeWarning: Mean of empty slice\n",
      "  warnings.warn(\"Mean of empty slice\", RuntimeWarning)\n",
      "/Users/maccagni/programs/anaconda2/lib/python2.7/site-packages/numpy/lib/nanfunctions.py:717: RuntimeWarning: All-NaN slice encountered\n",
      "  warnings.warn(\"All-NaN slice encountered\", RuntimeWarning)\n",
      "/Users/maccagni/notebooks/radiobs/hi.py:78: RuntimeWarning: divide by zero encountered in divide\n",
      "  tau=np.log(1.-(-sabs/scont))\n",
      "/Users/maccagni/notebooks/radiobs/hi.py:78: RuntimeWarning: invalid value encountered in log\n",
      "  tau=np.log(1.-(-sabs/scont))\n"
     ]
    },
    {
     "name": "stdout",
     "output_type": "stream",
     "text": [
      "\n",
      "# Total number of sources: \t44\n",
      "# Sources flagged: \t\t0\n",
      "# Blank spectra:\t\t0\n",
      "# Total number of spectra: \t44\n",
      "# Average noise in spectra: \t2.9 mJy/beam\n",
      "\t+------+\n",
      "\t Spectra extracted \n",
      "\t+------+\n"
     ]
    }
   ],
   "source": [
    "import spec_ex as spec_ex\n",
    "\n",
    "spectra = spec_ex.abs_ex(spar.cfg_par)\n",
    "\n",
    "print '\\t+------+\\n\\t Spectra extracted \\n\\t+------+'\n"
   ]
  },
  {
   "cell_type": "markdown",
   "metadata": {
    "deletable": true,
    "editable": true
   },
   "source": [
    "## Plot spectra"
   ]
  },
  {
   "cell_type": "code",
   "execution_count": 6,
   "metadata": {
    "collapsed": false,
    "deletable": true,
    "editable": true
   },
   "outputs": [
    {
     "name": "stderr",
     "output_type": "stream",
     "text": [
      "/Users/maccagni/programs/anaconda2/lib/python2.7/site-packages/matplotlib/pyplot.py:524: RuntimeWarning: More than 20 figures have been opened. Figures created through the pyplot interface (`matplotlib.pyplot.figure`) are retained until explicitly closed and may consume too much memory. (To control this warning, see the rcParam `figure.max_open_warning`).\n",
      "  max_open_warning, RuntimeWarning)\n"
     ]
    },
    {
     "name": "stdout",
     "output_type": "stream",
     "text": [
      "\t+------+\n",
      "\t Plots done \n",
      "\t+------+\n"
     ]
    }
   ],
   "source": [
    "import glob\n",
    "import absorption_plot as abs_pl\n",
    "\n",
    "#load spectra from absorption directory\n",
    "spectra = glob.glob('/Users/maccagni/Projects/MFS/FornaxA/MeerKAT/fa2/cubes/p1/spec/*.txt')\n",
    "for i in xrange(0,len(spectra)):\n",
    "    spectra[i] = os.path.basename(spectra[i])\n",
    "\n",
    "#plot spectra\n",
    "    abs_pl.abs_plot(spectra[i],spar.cfg_par)\n",
    "\n",
    "print '\\t+------+\\n\\t Plots done \\n\\t+------+'\n"
   ]
  },
  {
   "cell_type": "code",
   "execution_count": null,
   "metadata": {
    "collapsed": true,
    "deletable": true,
    "editable": true
   },
   "outputs": [],
   "source": []
  },
  {
   "cell_type": "code",
   "execution_count": null,
   "metadata": {
    "collapsed": true,
    "deletable": true,
    "editable": true
   },
   "outputs": [],
   "source": []
  }
 ],
 "metadata": {
  "anaconda-cloud": {},
  "kernelspec": {
   "display_name": "Python [conda root]",
   "language": "python",
   "name": "conda-root-py"
  },
  "language_info": {
   "codemirror_mode": {
    "name": "ipython",
    "version": 2
   },
   "file_extension": ".py",
   "mimetype": "text/x-python",
   "name": "python",
   "nbconvert_exporter": "python",
   "pygments_lexer": "ipython2",
   "version": "2.7.12"
  }
 },
 "nbformat": 4,
 "nbformat_minor": 1
}
